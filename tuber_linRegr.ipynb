{
 "cells": [
  {
   "cell_type": "code",
   "execution_count": 9,
   "id": "b5fbf912",
   "metadata": {},
   "outputs": [],
   "source": [
    "#here we import different modules for data analysis\n",
    "import numpy as np \n",
    "import pandas as pd\n",
    "import matplotlib.pyplot as plt\n",
    "%matplotlib inline\n",
    "\n",
    "#Number of morbidity of patients by active tuberculosis by sex and age \n",
    "#http://www.stat.kg/en/opendata/category/255/"
   ]
  },
  {
   "cell_type": "code",
   "execution_count": 10,
   "id": "062a003c",
   "metadata": {},
   "outputs": [
    {
     "name": "stdout",
     "output_type": "stream",
     "text": [
      "<class 'pandas.core.frame.DataFrame'>\n",
      "RangeIndex: 3 entries, 0 to 2\n",
      "Data columns (total 12 columns):\n",
      " #   Column  Non-Null Count  Dtype \n",
      "---  ------  --------------  ----- \n",
      " 0   Year    3 non-null      object\n",
      " 1   2011    3 non-null      object\n",
      " 2   2012    3 non-null      object\n",
      " 3   2013    3 non-null      object\n",
      " 4   2014    3 non-null      object\n",
      " 5   2015    3 non-null      object\n",
      " 6   2016    3 non-null      object\n",
      " 7   2017    3 non-null      object\n",
      " 8   2018    3 non-null      object\n",
      " 9   2019    3 non-null      object\n",
      " 10  2020    3 non-null      object\n",
      " 11  2021    3 non-null      object\n",
      "dtypes: object(12)\n",
      "memory usage: 416.0+ bytes\n"
     ]
    }
   ],
   "source": [
    "#here we load the dataset to the df variable\n",
    "df = pd.read_csv('tuberLinRegr.csv')\n",
    "df.info() #here we receive info about columns and rows, which of them are null/non-null\n",
    "#also we can get info about datatypes of the objects"
   ]
  },
  {
   "cell_type": "code",
   "execution_count": 11,
   "id": "a91edb69",
   "metadata": {},
   "outputs": [
    {
     "data": {
      "text/html": [
       "<div>\n",
       "<style scoped>\n",
       "    .dataframe tbody tr th:only-of-type {\n",
       "        vertical-align: middle;\n",
       "    }\n",
       "\n",
       "    .dataframe tbody tr th {\n",
       "        vertical-align: top;\n",
       "    }\n",
       "\n",
       "    .dataframe thead th {\n",
       "        text-align: right;\n",
       "    }\n",
       "</style>\n",
       "<table border=\"1\" class=\"dataframe\">\n",
       "  <thead>\n",
       "    <tr style=\"text-align: right;\">\n",
       "      <th></th>\n",
       "      <th>Year</th>\n",
       "      <th>2011</th>\n",
       "      <th>2012</th>\n",
       "      <th>2013</th>\n",
       "      <th>2014</th>\n",
       "      <th>2015</th>\n",
       "      <th>2016</th>\n",
       "      <th>2017</th>\n",
       "      <th>2018</th>\n",
       "      <th>2019</th>\n",
       "      <th>2020</th>\n",
       "      <th>2021</th>\n",
       "    </tr>\n",
       "  </thead>\n",
       "  <tbody>\n",
       "    <tr>\n",
       "      <th>0</th>\n",
       "      <td>Total</td>\n",
       "      <td>5 535</td>\n",
       "      <td>5 851</td>\n",
       "      <td>5 859</td>\n",
       "      <td>5 898</td>\n",
       "      <td>5 853</td>\n",
       "      <td>5 680</td>\n",
       "      <td>5 616</td>\n",
       "      <td>5 680</td>\n",
       "      <td>5 096</td>\n",
       "      <td>3 518</td>\n",
       "      <td>3 891</td>\n",
       "    </tr>\n",
       "    <tr>\n",
       "      <th>1</th>\n",
       "      <td>men</td>\n",
       "      <td>3 247</td>\n",
       "      <td>3 433</td>\n",
       "      <td>3 319</td>\n",
       "      <td>3 281</td>\n",
       "      <td>3 334</td>\n",
       "      <td>3 172</td>\n",
       "      <td>3 188</td>\n",
       "      <td>3 172</td>\n",
       "      <td>2 921</td>\n",
       "      <td>2 014</td>\n",
       "      <td>2 192</td>\n",
       "    </tr>\n",
       "    <tr>\n",
       "      <th>2</th>\n",
       "      <td>women</td>\n",
       "      <td>2 288</td>\n",
       "      <td>2 418</td>\n",
       "      <td>2 540</td>\n",
       "      <td>2 617</td>\n",
       "      <td>2 519</td>\n",
       "      <td>2 508</td>\n",
       "      <td>2 428</td>\n",
       "      <td>2 508</td>\n",
       "      <td>2 175</td>\n",
       "      <td>1 504</td>\n",
       "      <td>1 699</td>\n",
       "    </tr>\n",
       "  </tbody>\n",
       "</table>\n",
       "</div>"
      ],
      "text/plain": [
       "    Year   2011   2012   2013   2014   2015   2016   2017   2018   2019  \\\n",
       "0  Total  5 535  5 851  5 859  5 898  5 853  5 680  5 616  5 680  5 096   \n",
       "1    men  3 247  3 433  3 319  3 281  3 334  3 172  3 188  3 172  2 921   \n",
       "2  women  2 288  2 418  2 540  2 617  2 519  2 508  2 428  2 508  2 175   \n",
       "\n",
       "    2020   2021  \n",
       "0  3 518  3 891  \n",
       "1  2 014  2 192  \n",
       "2  1 504  1 699  "
      ]
     },
     "execution_count": 11,
     "metadata": {},
     "output_type": "execute_result"
    }
   ],
   "source": [
    "df.head()#here we look at the first part of the dataset, so we can\n",
    "#see what is the general structure of the dataset(its features)"
   ]
  },
  {
   "cell_type": "code",
   "execution_count": 12,
   "id": "a07962e6",
   "metadata": {},
   "outputs": [],
   "source": [
    "df = df.set_index('Year')\n",
    "#here I change indexing from primary-key like to indexing via 'Year' column"
   ]
  },
  {
   "cell_type": "code",
   "execution_count": 13,
   "id": "8251018b",
   "metadata": {},
   "outputs": [],
   "source": [
    "df = df.T#here I make transposing (changing columns and rows vice versa),\n",
    "#so it becomes convenient to work with this dataframe\n"
   ]
  },
  {
   "cell_type": "code",
   "execution_count": 501,
   "id": "08e6262e",
   "metadata": {},
   "outputs": [
    {
     "data": {
      "text/html": [
       "<div>\n",
       "<style scoped>\n",
       "    .dataframe tbody tr th:only-of-type {\n",
       "        vertical-align: middle;\n",
       "    }\n",
       "\n",
       "    .dataframe tbody tr th {\n",
       "        vertical-align: top;\n",
       "    }\n",
       "\n",
       "    .dataframe thead th {\n",
       "        text-align: right;\n",
       "    }\n",
       "</style>\n",
       "<table border=\"1\" class=\"dataframe\">\n",
       "  <thead>\n",
       "    <tr style=\"text-align: right;\">\n",
       "      <th>Year</th>\n",
       "      <th>Total</th>\n",
       "      <th>men</th>\n",
       "      <th>women</th>\n",
       "    </tr>\n",
       "  </thead>\n",
       "  <tbody>\n",
       "    <tr>\n",
       "      <th>2011</th>\n",
       "      <td>5 535</td>\n",
       "      <td>3 247</td>\n",
       "      <td>2 288</td>\n",
       "    </tr>\n",
       "    <tr>\n",
       "      <th>2012</th>\n",
       "      <td>5 851</td>\n",
       "      <td>3 433</td>\n",
       "      <td>2 418</td>\n",
       "    </tr>\n",
       "    <tr>\n",
       "      <th>2013</th>\n",
       "      <td>5 859</td>\n",
       "      <td>3 319</td>\n",
       "      <td>2 540</td>\n",
       "    </tr>\n",
       "    <tr>\n",
       "      <th>2014</th>\n",
       "      <td>5 898</td>\n",
       "      <td>3 281</td>\n",
       "      <td>2 617</td>\n",
       "    </tr>\n",
       "    <tr>\n",
       "      <th>2015</th>\n",
       "      <td>5 853</td>\n",
       "      <td>3 334</td>\n",
       "      <td>2 519</td>\n",
       "    </tr>\n",
       "    <tr>\n",
       "      <th>2016</th>\n",
       "      <td>5 680</td>\n",
       "      <td>3 172</td>\n",
       "      <td>2 508</td>\n",
       "    </tr>\n",
       "    <tr>\n",
       "      <th>2017</th>\n",
       "      <td>5 616</td>\n",
       "      <td>3 188</td>\n",
       "      <td>2 428</td>\n",
       "    </tr>\n",
       "    <tr>\n",
       "      <th>2018</th>\n",
       "      <td>5 680</td>\n",
       "      <td>3 172</td>\n",
       "      <td>2 508</td>\n",
       "    </tr>\n",
       "    <tr>\n",
       "      <th>2019</th>\n",
       "      <td>5 096</td>\n",
       "      <td>2 921</td>\n",
       "      <td>2 175</td>\n",
       "    </tr>\n",
       "    <tr>\n",
       "      <th>2020</th>\n",
       "      <td>3 518</td>\n",
       "      <td>2 014</td>\n",
       "      <td>1 504</td>\n",
       "    </tr>\n",
       "    <tr>\n",
       "      <th>2021</th>\n",
       "      <td>3 891</td>\n",
       "      <td>2 192</td>\n",
       "      <td>1 699</td>\n",
       "    </tr>\n",
       "  </tbody>\n",
       "</table>\n",
       "</div>"
      ],
      "text/plain": [
       "Year  Total    men  women\n",
       "2011  5 535  3 247  2 288\n",
       "2012  5 851  3 433  2 418\n",
       "2013  5 859  3 319  2 540\n",
       "2014  5 898  3 281  2 617\n",
       "2015  5 853  3 334  2 519\n",
       "2016  5 680  3 172  2 508\n",
       "2017  5 616  3 188  2 428\n",
       "2018  5 680  3 172  2 508\n",
       "2019  5 096  2 921  2 175\n",
       "2020  3 518  2 014  1 504\n",
       "2021  3 891  2 192  1 699"
      ]
     },
     "execution_count": 501,
     "metadata": {},
     "output_type": "execute_result"
    }
   ],
   "source": [
    "df.head(20)#so we can see how the dataframe looks like after the operations\n",
    "#even at this stage by simple checking of the table I see the sharp decrease\n",
    "#of total number of tuberculosis diagnosed cases in 2020 and 2021, from more \n",
    "#than 5000 to about 3500-4000"
   ]
  },
  {
   "cell_type": "code",
   "execution_count": 14,
   "id": "50d8ee9b",
   "metadata": {},
   "outputs": [
    {
     "data": {
      "image/png": "[encoded data removed]",
      "text/plain": [
       "<Figure size 640x480 with 1 Axes>"
      ]
     },
     "metadata": {},
     "output_type": "display_data"
    }
   ],
   "source": [
    "#this scatter shows 2 absolutely same numbers of people with tubeerculosis\n",
    "#diagnosed in the years 2016 and 2018 - 5680\n",
    "plt.scatter(np.arange(2011, 2022, 1), df['Total'])\n",
    "plt.xlabel('Year')\n",
    "plt.show()"
   ]
  },
  {
   "cell_type": "code",
   "execution_count": 16,
   "id": "16147ce0",
   "metadata": {},
   "outputs": [],
   "source": [
    "df1 = df.copy()#here I make a copy of the dataset, so I can manipulate \n",
    "#the copied dataset and keep original one without changes"
   ]
  },
  {
   "cell_type": "code",
   "execution_count": 18,
   "id": "5b213878",
   "metadata": {},
   "outputs": [
    {
     "data": {
      "text/html": [
       "<div>\n",
       "<style scoped>\n",
       "    .dataframe tbody tr th:only-of-type {\n",
       "        vertical-align: middle;\n",
       "    }\n",
       "\n",
       "    .dataframe tbody tr th {\n",
       "        vertical-align: top;\n",
       "    }\n",
       "\n",
       "    .dataframe thead th {\n",
       "        text-align: right;\n",
       "    }\n",
       "</style>\n",
       "<table border=\"1\" class=\"dataframe\">\n",
       "  <thead>\n",
       "    <tr style=\"text-align: right;\">\n",
       "      <th>Year</th>\n",
       "      <th>Total</th>\n",
       "      <th>men</th>\n",
       "      <th>women</th>\n",
       "    </tr>\n",
       "  </thead>\n",
       "  <tbody>\n",
       "    <tr>\n",
       "      <th>count</th>\n",
       "      <td>11</td>\n",
       "      <td>11</td>\n",
       "      <td>11</td>\n",
       "    </tr>\n",
       "    <tr>\n",
       "      <th>unique</th>\n",
       "      <td>10</td>\n",
       "      <td>10</td>\n",
       "      <td>10</td>\n",
       "    </tr>\n",
       "    <tr>\n",
       "      <th>top</th>\n",
       "      <td>5 680</td>\n",
       "      <td>3 172</td>\n",
       "      <td>2 508</td>\n",
       "    </tr>\n",
       "    <tr>\n",
       "      <th>freq</th>\n",
       "      <td>2</td>\n",
       "      <td>2</td>\n",
       "      <td>2</td>\n",
       "    </tr>\n",
       "  </tbody>\n",
       "</table>\n",
       "</div>"
      ],
      "text/plain": [
       "Year    Total    men  women\n",
       "count      11     11     11\n",
       "unique     10     10     10\n",
       "top     5 680  3 172  2 508\n",
       "freq        2      2      2"
      ]
     },
     "execution_count": 18,
     "metadata": {},
     "output_type": "execute_result"
    }
   ],
   "source": [
    "df1.describe()\n",
    "#strange thing about this data: years 2016 and 2018 have the same numbers\n",
    "#in all three columns: Total 5680, men 3172, women 2508."
   ]
  },
  {
   "cell_type": "code",
   "execution_count": 20,
   "id": "902ce570",
   "metadata": {},
   "outputs": [
    {
     "name": "stdout",
     "output_type": "stream",
     "text": [
      "<class 'pandas.core.frame.DataFrame'>\n",
      "Index: 11 entries, 2011 to 2021\n",
      "Data columns (total 3 columns):\n",
      " #   Column  Non-Null Count  Dtype  \n",
      "---  ------  --------------  -----  \n",
      " 0   Total   11 non-null     float64\n",
      " 1   men     11 non-null     float64\n",
      " 2   women   11 non-null     float64\n",
      "dtypes: float64(3)\n",
      "memory usage: 352.0+ bytes\n"
     ]
    }
   ],
   "source": [
    "#here I have decided to change the datatypes of the data from 'object' to 'float'\n",
    "#the reason for doing this is in the fact that many functions and operations don't\n",
    "#work properly with different datatypes, as an example, please look at the function\n",
    "#describe() in above and in below\n",
    "df1['men'] = (df1['men'].astype(str).str.split()).apply(lambda x: float(x[0]))\n",
    "df1['women'] = (df1['women'].astype(str).str.split()).apply(lambda x: float(x[0]))\n",
    "df1['Total'] = (df1['Total'].astype(str).str.split()).apply(lambda x: float(x[0]))\n",
    "df1.info()"
   ]
  },
  {
   "cell_type": "code",
   "execution_count": 22,
   "id": "cd4ba7d5",
   "metadata": {},
   "outputs": [
    {
     "data": {
      "text/html": [
       "<div>\n",
       "<style scoped>\n",
       "    .dataframe tbody tr th:only-of-type {\n",
       "        vertical-align: middle;\n",
       "    }\n",
       "\n",
       "    .dataframe tbody tr th {\n",
       "        vertical-align: top;\n",
       "    }\n",
       "\n",
       "    .dataframe thead th {\n",
       "        text-align: right;\n",
       "    }\n",
       "</style>\n",
       "<table border=\"1\" class=\"dataframe\">\n",
       "  <thead>\n",
       "    <tr style=\"text-align: right;\">\n",
       "      <th>Year</th>\n",
       "      <th>Total</th>\n",
       "      <th>men</th>\n",
       "      <th>women</th>\n",
       "    </tr>\n",
       "  </thead>\n",
       "  <tbody>\n",
       "    <tr>\n",
       "      <th>count</th>\n",
       "      <td>11.000000</td>\n",
       "      <td>11.000000</td>\n",
       "      <td>11.000000</td>\n",
       "    </tr>\n",
       "    <tr>\n",
       "      <th>mean</th>\n",
       "      <td>4.636364</td>\n",
       "      <td>2.727273</td>\n",
       "      <td>1.818182</td>\n",
       "    </tr>\n",
       "    <tr>\n",
       "      <th>std</th>\n",
       "      <td>0.809040</td>\n",
       "      <td>0.467099</td>\n",
       "      <td>0.404520</td>\n",
       "    </tr>\n",
       "    <tr>\n",
       "      <th>min</th>\n",
       "      <td>3.000000</td>\n",
       "      <td>2.000000</td>\n",
       "      <td>1.000000</td>\n",
       "    </tr>\n",
       "    <tr>\n",
       "      <th>25%</th>\n",
       "      <td>5.000000</td>\n",
       "      <td>2.500000</td>\n",
       "      <td>2.000000</td>\n",
       "    </tr>\n",
       "    <tr>\n",
       "      <th>50%</th>\n",
       "      <td>5.000000</td>\n",
       "      <td>3.000000</td>\n",
       "      <td>2.000000</td>\n",
       "    </tr>\n",
       "    <tr>\n",
       "      <th>75%</th>\n",
       "      <td>5.000000</td>\n",
       "      <td>3.000000</td>\n",
       "      <td>2.000000</td>\n",
       "    </tr>\n",
       "    <tr>\n",
       "      <th>max</th>\n",
       "      <td>5.000000</td>\n",
       "      <td>3.000000</td>\n",
       "      <td>2.000000</td>\n",
       "    </tr>\n",
       "  </tbody>\n",
       "</table>\n",
       "</div>"
      ],
      "text/plain": [
       "Year       Total        men      women\n",
       "count  11.000000  11.000000  11.000000\n",
       "mean    4.636364   2.727273   1.818182\n",
       "std     0.809040   0.467099   0.404520\n",
       "min     3.000000   2.000000   1.000000\n",
       "25%     5.000000   2.500000   2.000000\n",
       "50%     5.000000   3.000000   2.000000\n",
       "75%     5.000000   3.000000   2.000000\n",
       "max     5.000000   3.000000   2.000000"
      ]
     },
     "execution_count": 22,
     "metadata": {},
     "output_type": "execute_result"
    }
   ],
   "source": [
    "#here we can get more statistical data, such as the mean (average), the standard deviation (std),\n",
    "#which shows dispersion of the data around the mean value, also we get quantiles and the range (min/max)\n",
    "df1.describe()"
   ]
  },
  {
   "cell_type": "code",
   "execution_count": null,
   "id": "3e796eef",
   "metadata": {},
   "outputs": [],
   "source": [
    "\n"
   ]
  },
  {
   "cell_type": "code",
   "execution_count": 24,
   "id": "ec923464",
   "metadata": {},
   "outputs": [
    {
     "data": {
      "text/plain": [
       "<AxesSubplot:>"
      ]
     },
     "execution_count": 24,
     "metadata": {},
     "output_type": "execute_result"
    },
    {
     "data": {
      "image/png": "[encoded data removed]",
      "text/plain": [
       "<Figure size 640x480 with 1 Axes>"
      ]
     },
     "metadata": {},
     "output_type": "display_data"
    }
   ],
   "source": [
    "#now we can see again a sharp decrease of total number of tuberculosis diagnosed \n",
    "#in 2020-2021, so I can assume the reason was SARS CoV-2, started in 2020\n",
    "df1['Total'].plot()"
   ]
  },
  {
   "cell_type": "code",
   "execution_count": null,
   "id": "5411b485",
   "metadata": {},
   "outputs": [],
   "source": [
    "#CONCLUSION:  I can emphasize 3 outcomes after working with the data:\n",
    "#1) there's a problem with datatypes, which is fixed with the loss of some\n",
    "#info which could be useful for the analysis, along with this maybe\n",
    "#2) another inconsistency with data can be revealed, bcz 2106 and 2018 years\n",
    "#have absolutely same numbers in all 3 features(total/men/women)\n",
    "#3) there's a sharp decrease of tuberculosis diagnosed cases in the years \n",
    "#2020-2021, I can connect this to the pandemic situation in Kyrgyzstan"
   ]
  },
  {
   "cell_type": "code",
   "execution_count": null,
   "id": "929fcfe8",
   "metadata": {},
   "outputs": [],
   "source": [
    "#P.S.: There are also some other Data Science & Machine Learning tools\n",
    "#whcih could be worked out and implemented, for example, Linear and Logistic\n",
    "#Regressions for making 'predictions', approximation, and classification\n",
    "#different types of Naive Bayes, Decision Trees, Random Forests, SVM,\n",
    "#SVD, PCA, k-means, k-NN, different types of Deep Learning. "
   ]
  },
  {
   "cell_type": "code",
   "execution_count": null,
   "id": "3a3e24a4",
   "metadata": {},
   "outputs": [],
   "source": []
  },
  {
   "cell_type": "code",
   "execution_count": null,
   "id": "c5030ac4",
   "metadata": {},
   "outputs": [],
   "source": []
  },
  {
   "cell_type": "code",
   "execution_count": null,
   "id": "4517f299",
   "metadata": {},
   "outputs": [],
   "source": []
  },
  {
   "cell_type": "code",
   "execution_count": null,
   "id": "78418091",
   "metadata": {},
   "outputs": [],
   "source": []
  },
  {
   "cell_type": "code",
   "execution_count": null,
   "id": "be44dbd8",
   "metadata": {},
   "outputs": [],
   "source": []
  },
  {
   "cell_type": "code",
   "execution_count": null,
   "id": "4a3fe08e",
   "metadata": {},
   "outputs": [],
   "source": []
  },
  {
   "cell_type": "code",
   "execution_count": null,
   "id": "7f13e08b",
   "metadata": {},
   "outputs": [],
   "source": []
  },
  {
   "cell_type": "code",
   "execution_count": null,
   "id": "bf4114c0",
   "metadata": {},
   "outputs": [],
   "source": []
  }
 ],
 "metadata": {
  "kernelspec": {
   "display_name": "Python 3 (ipykernel)",
   "language": "python",
   "name": "python3"
  },
  "language_info": {
   "codemirror_mode": {
    "name": "ipython",
    "version": 3
   },
   "file_extension": ".py",
   "mimetype": "text/x-python",
   "name": "python",
   "nbconvert_exporter": "python",
   "pygments_lexer": "ipython3",
   "version": "3.9.12"
  }
 },
 "nbformat": 4,
 "nbformat_minor": 5
}
